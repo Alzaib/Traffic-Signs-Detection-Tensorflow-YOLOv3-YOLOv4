{
  "nbformat": 4,
  "nbformat_minor": 0,
  "metadata": {
    "colab": {
      "name": "signs_classification.ipynb",
      "provenance": [],
      "collapsed_sections": []
    },
    "kernelspec": {
      "name": "python3",
      "display_name": "Python 3"
    },
    "language_info": {
      "name": "python"
    }
  },
  "cells": [
    {
      "cell_type": "markdown",
      "metadata": {
        "id": "U-L8VgWMC0t2"
      },
      "source": [
        "# **Traffic Signs Classification**"
      ]
    },
    {
      "cell_type": "code",
      "metadata": {
        "id": "juMyIAyseooQ"
      },
      "source": [
        "from google.colab import drive\n",
        "import pickle as pkl\n",
        "import matplotlib.pyplot as plt\n",
        "import numpy as np\n",
        "from sklearn.utils import shuffle\n",
        "from imgaug import augmenters  as iaa\n",
        "import cv2\n",
        "import random"
      ],
      "execution_count": 1,
      "outputs": []
    },
    {
      "cell_type": "markdown",
      "metadata": {
        "id": "8CkndBCyDCUb"
      },
      "source": [
        "**1- Mount google drive and import dataset**\n",
        "\n"
      ]
    },
    {
      "cell_type": "code",
      "metadata": {
        "colab": {
          "base_uri": "https://localhost:8080/"
        },
        "id": "WauXs4spfmZH",
        "outputId": "7aa30f6f-53eb-4dcd-89ff-93a2b854fa3b"
      },
      "source": [
        "#mount google drive\n",
        "drive.mount('/content/drive')"
      ],
      "execution_count": 2,
      "outputs": [
        {
          "output_type": "stream",
          "text": [
            "Mounted at /content/drive\n"
          ],
          "name": "stdout"
        }
      ]
    },
    {
      "cell_type": "code",
      "metadata": {
        "id": "ioLEJNnYgMAc"
      },
      "source": [
        "training_file = \"/content/drive/My Drive/training_data_trafficsigns/train.p\"\n",
        "validation_file= \"/content/drive/My Drive/training_data_trafficsigns/valid.p\"\n",
        "testing_file = \"/content/drive/My Drive/training_data_trafficsigns/test.p\"\n",
        "\n",
        "with open(training_file, mode='rb') as f:\n",
        "    train = pkl.load(f)\n",
        "with open(validation_file, mode='rb') as f:\n",
        "    valid = pkl.load(f)\n",
        "with open(testing_file, mode='rb') as f:\n",
        "    test = pkl.load(f)"
      ],
      "execution_count": 3,
      "outputs": []
    },
    {
      "cell_type": "code",
      "metadata": {
        "id": "w4hYhqoph3U7"
      },
      "source": [
        "WIDTH = 32\n",
        "HEIGHT = 32"
      ],
      "execution_count": 4,
      "outputs": []
    },
    {
      "cell_type": "code",
      "metadata": {
        "colab": {
          "base_uri": "https://localhost:8080/"
        },
        "id": "fcALi_IVgpsj",
        "outputId": "476347e3-b671-4498-a079-c9ffddf83898"
      },
      "source": [
        "X_train = train['features']\n",
        "y_train = train['labels']\n",
        "\n",
        "print(X_train.shape)\n",
        "print(y_train.shape)"
      ],
      "execution_count": 5,
      "outputs": [
        {
          "output_type": "stream",
          "text": [
            "(34799, 32, 32, 3)\n",
            "(34799,)\n"
          ],
          "name": "stdout"
        }
      ]
    },
    {
      "cell_type": "code",
      "metadata": {
        "colab": {
          "base_uri": "https://localhost:8080/"
        },
        "id": "kzMvhW6jFC9Z",
        "outputId": "22c585c0-5f78-4482-a0ed-bf969728dcc9"
      },
      "source": [
        "X_valid = valid['features']\n",
        "y_valid = valid['labels']\n",
        "\n",
        "X_valid = np.array(X_valid)\n",
        "y_valid = np.array(y_valid)\n",
        "\n",
        "print(X_valid.shape)\n",
        "print(y_valid.shape)"
      ],
      "execution_count": 6,
      "outputs": [
        {
          "output_type": "stream",
          "text": [
            "(4410, 32, 32, 3)\n",
            "(4410,)\n"
          ],
          "name": "stdout"
        }
      ]
    },
    {
      "cell_type": "markdown",
      "metadata": {
        "id": "_rNJ--SqDPwx"
      },
      "source": [
        "**2- About the Dataset**"
      ]
    },
    {
      "cell_type": "code",
      "metadata": {
        "colab": {
          "base_uri": "https://localhost:8080/",
          "height": 295
        },
        "id": "r1V_EI7JjEh4",
        "outputId": "2d917746-55d5-40d4-8605-acbaa140b475"
      },
      "source": [
        "num_bins = 43\n",
        "samples_per_bin = 250\n",
        "plt.hist(y_train, bins =num_bins,rwidth=0.8)\n",
        "plt.plot((np.min(y_train), np.max(y_train)), (samples_per_bin, samples_per_bin))\n",
        "plt.title('Unbalanced Dataset')\n",
        "plt.xlabel('Class Id')\n",
        "plt.ylabel('No.of Images')\n",
        "plt.show()\n",
        "\n",
        "_, bins = np.histogram(y_train, num_bins)"
      ],
      "execution_count": 9,
      "outputs": [
        {
          "output_type": "display_data",
          "data": {
            "image/png": "[encoded data removed]",
            "text/plain": [
              "<Figure size 432x288 with 1 Axes>"
            ]
          },
          "metadata": {
            "tags": [],
            "needs_background": "light"
          }
        }
      ]
    },
    {
      "cell_type": "code",
      "metadata": {
        "colab": {
          "base_uri": "https://localhost:8080/"
        },
        "id": "EUZQ3IcQsCj_",
        "outputId": "7d539b92-a32f-4ef3-a434-9a72a6277cc5"
      },
      "source": [
        "print(bins)"
      ],
      "execution_count": 8,
      "outputs": [
        {
          "output_type": "stream",
          "text": [
            "[ 0.          0.97674419  1.95348837  2.93023256  3.90697674  4.88372093\n",
            "  5.86046512  6.8372093   7.81395349  8.79069767  9.76744186 10.74418605\n",
            " 11.72093023 12.69767442 13.6744186  14.65116279 15.62790698 16.60465116\n",
            " 17.58139535 18.55813953 19.53488372 20.51162791 21.48837209 22.46511628\n",
            " 23.44186047 24.41860465 25.39534884 26.37209302 27.34883721 28.3255814\n",
            " 29.30232558 30.27906977 31.25581395 32.23255814 33.20930233 34.18604651\n",
            " 35.1627907  36.13953488 37.11627907 38.09302326 39.06976744 40.04651163\n",
            " 41.02325581 42.        ]\n"
          ],
          "name": "stdout"
        }
      ]
    },
    {
      "cell_type": "code",
      "metadata": {
        "colab": {
          "base_uri": "https://localhost:8080/"
        },
        "id": "bjtO4PAXk9jD",
        "outputId": "e15d14c8-b843-4444-b544-100d0bd778b1"
      },
      "source": [
        "#Balance the data\n",
        "print ('total data:', len(X_train))\n",
        "remove_list = []\n",
        "for j in range(num_bins):\n",
        "  list_ = []\n",
        "  for i in range(len(y_train)):\n",
        "    if y_train[i]>= bins[j] and y_train[i]<=bins[j+1]:\n",
        "      list_.append(i)\n",
        "  list_ = shuffle(list_)\n",
        "  #print(list_)\n",
        "  if len(list_)>samples_per_bin:\n",
        "    list_ = list_[samples_per_bin:]\n",
        "    remove_list.extend(list_)\n",
        "\n",
        "print('removed:', len(remove_list))\n",
        "\n",
        "X_train = np.delete(X_train, remove_list, axis=0)\n",
        "print ('remaining images:', len (X_train))\n",
        "\n",
        "y_train = np.delete(y_train, remove_list, axis=0)\n",
        "print ('remaining labels:', len (y_train))"
      ],
      "execution_count": 10,
      "outputs": [
        {
          "output_type": "stream",
          "text": [
            "total data: 34799\n",
            "removed: 24439\n",
            "remaining images: 10360\n",
            "remaining labels: 10360\n"
          ],
          "name": "stdout"
        }
      ]
    },
    {
      "cell_type": "code",
      "metadata": {
        "colab": {
          "base_uri": "https://localhost:8080/",
          "height": 295
        },
        "id": "CItUL0WcvPJ-",
        "outputId": "7d4555c8-9be7-46a2-f624-6877e5e618f5"
      },
      "source": [
        "num_bins = 43\n",
        "samples_per_bin = 500\n",
        "plt.hist(y_train, bins =num_bins,rwidth=0.8)\n",
        "plt.title('Balanaced Dataset')\n",
        "plt.xlabel('Class Id')\n",
        "plt.ylabel('No.of Images')\n",
        "plt.show()"
      ],
      "execution_count": null,
      "outputs": [
        {
          "output_type": "display_data",
          "data": {
            "image/png": "[encoded data removed]",
            "text/plain": [
              "<Figure size 432x288 with 1 Axes>"
            ]
          },
          "metadata": {
            "tags": [],
            "needs_background": "light"
          }
        }
      ]
    },
    {
      "cell_type": "markdown",
      "metadata": {
        "id": "Z4zYxmWfEFxS"
      },
      "source": [
        "**3- Image Augmentation to Artifically Expand the Dataset**"
      ]
    },
    {
      "cell_type": "code",
      "metadata": {
        "id": "9BIZonF5vlLS"
      },
      "source": [
        "#image augmentation\n",
        "def zoom(image):\n",
        "  zoom_img = iaa.Affine(scale = (0.9, 1.3))\n",
        "  image = zoom_img.augment_image(image)\n",
        "  return image"
      ],
      "execution_count": null,
      "outputs": []
    },
    {
      "cell_type": "code",
      "metadata": {
        "colab": {
          "base_uri": "https://localhost:8080/",
          "height": 573
        },
        "id": "yLhZrMdavr0j",
        "outputId": "55980533-44e6-4dfe-b324-6cf96d84321a"
      },
      "source": [
        "index = random.randint(0,len(X_train)-1)\n",
        "image= X_train[index]\n",
        "label= y_train [index]\n",
        "zoomed_image = zoom(image)\n",
        "\n",
        "fig, axs = plt.subplots(1, 2, figsize=(15, 10))\n",
        "fig.tight_layout()\n",
        "axs[0].imshow(image)\n",
        "axs[0].set_title('Original Image')\n",
        "axs[1].imshow(zoomed_image)\n",
        "axs[1].set_title('Zoomed Image')\n",
        "\n",
        "print(label)"
      ],
      "execution_count": null,
      "outputs": [
        {
          "output_type": "stream",
          "text": [
            "39\n"
          ],
          "name": "stdout"
        },
        {
          "output_type": "display_data",
          "data": {
            "image/png": "[encoded data removed]",
            "text/plain": [
              "<Figure size 1080x720 with 2 Axes>"
            ]
          },
          "metadata": {
            "tags": [],
            "needs_background": "light"
          }
        }
      ]
    },
    {
      "cell_type": "code",
      "metadata": {
        "id": "2ce2pMFW-KvG"
      },
      "source": [
        "def pan(image):\n",
        "  pan = iaa.Affine(translate_percent={'x': (-0.1, 0.1), 'y': (-0.1, 0.1)})\n",
        "  image = pan.augment_image(image)\n",
        "  return image"
      ],
      "execution_count": null,
      "outputs": []
    },
    {
      "cell_type": "code",
      "metadata": {
        "colab": {
          "base_uri": "https://localhost:8080/",
          "height": 573
        },
        "id": "fp1lVw9--RdL",
        "outputId": "d12e9556-bb84-4baa-da7f-c240006fb96f"
      },
      "source": [
        "index = random.randint(0,len(X_train)-1)\n",
        "image= X_train[index]\n",
        "label= y_train [index]\n",
        "panned_image = pan(image)\n",
        "\n",
        "fig, axs = plt.subplots(1, 2, figsize=(15, 10))\n",
        "fig.tight_layout()\n",
        "axs[0].imshow(image)\n",
        "axs[0].set_title('Original Image')\n",
        "axs[1].imshow(panned_image)\n",
        "axs[1].set_title('Panned Image')\n",
        "\n",
        "print(label)"
      ],
      "execution_count": null,
      "outputs": [
        {
          "output_type": "stream",
          "text": [
            "36\n"
          ],
          "name": "stdout"
        },
        {
          "output_type": "display_data",
          "data": {
            "image/png": "[encoded data removed]",
            "text/plain": [
              "<Figure size 1080x720 with 2 Axes>"
            ]
          },
          "metadata": {
            "tags": [],
            "needs_background": "light"
          }
        }
      ]
    },
    {
      "cell_type": "code",
      "metadata": {
        "id": "szgKuYy6-qQx"
      },
      "source": [
        "def img_random_brightness(image):\n",
        "  brightness = iaa.Multiply((0.2, 1.8))\n",
        "  image = brightness.augment_image(image)\n",
        "  return image"
      ],
      "execution_count": null,
      "outputs": []
    },
    {
      "cell_type": "code",
      "metadata": {
        "colab": {
          "base_uri": "https://localhost:8080/",
          "height": 573
        },
        "id": "WSuLGYkc-qaE",
        "outputId": "e00e0ff7-71f3-43b5-bb45-83266659a682"
      },
      "source": [
        "index = random.randint(0,len(X_train)-1)\n",
        "image= X_train[index]\n",
        "label= y_train [index]\n",
        "bright_image = img_random_brightness(image)\n",
        "\n",
        "fig, axs = plt.subplots(1, 2, figsize=(15, 10))\n",
        "fig.tight_layout()\n",
        "axs[0].imshow(image)\n",
        "axs[0].set_title('Original Image')\n",
        "axs[1].imshow(bright_image)\n",
        "axs[1].set_title('Bright Image')\n",
        "\n",
        "print(label)"
      ],
      "execution_count": null,
      "outputs": [
        {
          "output_type": "stream",
          "text": [
            "36\n"
          ],
          "name": "stdout"
        },
        {
          "output_type": "display_data",
          "data": {
            "image/png": "[encoded data removed]",
            "text/plain": [
              "<Figure size 1080x720 with 2 Axes>"
            ]
          },
          "metadata": {
            "tags": [],
            "needs_background": "light"
          }
        }
      ]
    },
    {
      "cell_type": "code",
      "metadata": {
        "id": "t0IoQJS5w8Uk"
      },
      "source": [
        "augmented_zoom_image = []\n",
        "augmented_zoom_label = []\n",
        "\n",
        "for i in range(len(y_train)):\n",
        "  img = X_train[i]\n",
        "  label = y_train[i]\n",
        "  zoomed_img = zoom(img)\n",
        "  augmented_zoom_image.append(zoomed_img)\n",
        "  augmented_zoom_label.append(label)"
      ],
      "execution_count": null,
      "outputs": []
    },
    {
      "cell_type": "code",
      "metadata": {
        "id": "ui8rgalgALe1"
      },
      "source": [
        "augmented_pan_image = []\n",
        "augmented_pan_label = []\n",
        "\n",
        "for i in range(len(y_train)):\n",
        "  img = X_train[i]\n",
        "  label = y_train[i]\n",
        "  panned_img = pan(img)\n",
        "  augmented_pan_image.append(panned_img)\n",
        "  augmented_pan_label.append(label)"
      ],
      "execution_count": null,
      "outputs": []
    },
    {
      "cell_type": "code",
      "metadata": {
        "id": "fyIa4DrfAdBX"
      },
      "source": [
        "augmented_bright_image = []\n",
        "augmented_bright_label = []\n",
        "\n",
        "for i in range(len(y_train)):\n",
        "  img = X_train[i]\n",
        "  label = y_train[i]\n",
        "  bright_img = img_random_brightness(img)\n",
        "  augmented_bright_image.append(bright_img)\n",
        "  augmented_bright_label.append(label)"
      ],
      "execution_count": null,
      "outputs": []
    },
    {
      "cell_type": "code",
      "metadata": {
        "colab": {
          "base_uri": "https://localhost:8080/"
        },
        "id": "G73CExSVAwtR",
        "outputId": "ab53b05d-298e-48f2-aa69-6cd4e6667e79"
      },
      "source": [
        "print('Balanced Dataset Before Augmentation(Image):', X_train.shape)\n",
        "print('Balanced Dataset Before Augmentation(Label):', y_train.shape)\n",
        "#change to np array\n",
        "augmented_zoom_image = np.array(augmented_zoom_image)\n",
        "augmented_pan_image = np.array(augmented_pan_image)\n",
        "augmented_bright_image = np.array(augmented_bright_image)\n",
        "X_train = np.array(X_train)\n",
        "#concatenate\n",
        "X_train = np.concatenate((X_train, augmented_zoom_image, augmented_pan_image, augmented_bright_image))\n",
        "\n",
        "\n",
        "#change to np array\n",
        "augmented_zoom_label = np.array(augmented_zoom_label) #250\n",
        "augmented_pan_label = np.array(augmented_pan_label) #250\n",
        "augmented_bright_label = np.array(augmented_bright_label) #250\n",
        "y_train = np.array(y_train) #250\n",
        "#concatenate\n",
        "y_train = np.concatenate((y_train, augmented_zoom_label, augmented_pan_label, augmented_bright_label))\n",
        "\n",
        "print('Balanced Dataset After Augmentation(Image):', X_train.shape)\n",
        "print('Balanced Dataset After Augmentation(Label):', y_train.shape)"
      ],
      "execution_count": null,
      "outputs": [
        {
          "output_type": "stream",
          "text": [
            "Balanced Dataset Before Augmentation(Image): (10360, 32, 32, 3)\n",
            "Balanced Dataset Before Augmentation(Label): (10360,)\n",
            "Balanced Dataset After Augmentation(Image): (41440, 32, 32, 3)\n",
            "Balanced Dataset After Augmentation(Label): (41440,)\n"
          ],
          "name": "stdout"
        }
      ]
    },
    {
      "cell_type": "code",
      "metadata": {
        "colab": {
          "base_uri": "https://localhost:8080/",
          "height": 295
        },
        "id": "zx2AauZuCMLw",
        "outputId": "ef9cb150-6708-4340-c955-ae83dcb6c5ab"
      },
      "source": [
        "num_bins = 43\n",
        "plt.hist(y_train, bins =num_bins,rwidth=0.8)\n",
        "plt.title('Artificially Expanded Balanaced Dataset')\n",
        "plt.xlabel('Class Id')\n",
        "plt.ylabel('No.of Images')\n",
        "plt.show()"
      ],
      "execution_count": null,
      "outputs": [
        {
          "output_type": "display_data",
          "data": {
            "image/png": "[encoded data removed]",
            "text/plain": [
              "<Figure size 432x288 with 1 Axes>"
            ]
          },
          "metadata": {
            "tags": [],
            "needs_background": "light"
          }
        }
      ]
    },
    {
      "cell_type": "markdown",
      "metadata": {
        "id": "FYS8ToUtETba"
      },
      "source": [
        "**3- Building a CNN on Tensorflow(Keras)**"
      ]
    },
    {
      "cell_type": "code",
      "metadata": {
        "id": "JeNLdiE-DGe4"
      },
      "source": [
        "import tensorflow as tf\n",
        "from tensorflow import keras\n",
        "from keras.models import Sequential\n",
        "from keras.optimizers import Adam\n",
        "from keras.layers import Conv2D, MaxPooling2D, Dropout, Flatten, Dense, LSTM, Reshape, Input, Concatenate, GlobalMaxPool2D\n",
        "from keras.models import Model"
      ],
      "execution_count": null,
      "outputs": []
    },
    {
      "cell_type": "code",
      "metadata": {
        "colab": {
          "base_uri": "https://localhost:8080/"
        },
        "id": "zDocaPc6Dan8",
        "outputId": "e4d9c714-a227-4511-b78d-6877e5cc03ff"
      },
      "source": [
        "print(keras.__version__)"
      ],
      "execution_count": null,
      "outputs": [
        {
          "output_type": "stream",
          "text": [
            "2.4.0\n"
          ],
          "name": "stdout"
        }
      ]
    },
    {
      "cell_type": "code",
      "metadata": {
        "colab": {
          "base_uri": "https://localhost:8080/"
        },
        "id": "iA0XOYGXGzMm",
        "outputId": "89892ac8-5886-4a48-a958-fc2f3cd53fbe"
      },
      "source": [
        "print(X_train[1].shape)"
      ],
      "execution_count": null,
      "outputs": [
        {
          "output_type": "stream",
          "text": [
            "(32, 32, 3)\n"
          ],
          "name": "stdout"
        }
      ]
    },
    {
      "cell_type": "code",
      "metadata": {
        "id": "DZ54-APuDmgg"
      },
      "source": [
        "def CNN_model():\n",
        "  model = Sequential()\n",
        "\n",
        "  #1st layer\n",
        "  model.add(Conv2D(24, kernel_size=(5,5), strides=(1,1), input_shape=(WIDTH, HEIGHT,3), activation='relu'))\n",
        "\n",
        "  #2nd layer\n",
        "  model.add(Conv2D(36, kernel_size=(5,5), strides=(1,1), activation='relu'))\n",
        "\n",
        "  #3rd layer\n",
        "  model.add(Conv2D(48, kernel_size=(5,5), strides=(1,1), activation='relu'))\n",
        "  \n",
        "  #4th layer\n",
        "  model.add(Conv2D(64, kernel_size=(3,3), activation='relu'))\n",
        "\n",
        "  #5th layer\n",
        "  model.add(Conv2D(64, kernel_size=(3,3), activation='relu'))\n",
        "\n",
        "\n",
        "  #1st Dense Layer\n",
        "  model.add(Flatten())\n",
        "  model.add(Dense(250, activation='relu'))\n",
        "  #model.add(Dropout(0.5))\n",
        "\n",
        "  #2nd Dense Layer\n",
        "  model.add(Dense(125, activation='relu'))\n",
        "  #model.add(Dropout(0.5))\n",
        "\n",
        "  #3rd Dense Layer\n",
        "  model.add(Dense(75, activation='relu'))\n",
        "  #model.add(Dropout(0.5))\n",
        "\n",
        "  #output\n",
        "  model.add(Dense(43, activation='softmax'))\n",
        "  \n",
        "  #Compile model\n",
        "  model.compile(Adam(lr=0.0001), loss = 'categorical_crossentropy', metrics = ['accuracy'])\n",
        "  return model"
      ],
      "execution_count": null,
      "outputs": []
    },
    {
      "cell_type": "code",
      "metadata": {
        "colab": {
          "base_uri": "https://localhost:8080/"
        },
        "id": "sLgdJ1DGERw_",
        "outputId": "a1146661-68b0-4f53-e3da-3e0539c4e36d"
      },
      "source": [
        "model = CNN_model()\n",
        "print(model.summary())"
      ],
      "execution_count": null,
      "outputs": [
        {
          "output_type": "stream",
          "text": [
            "Model: \"sequential\"\n",
            "_________________________________________________________________\n",
            "Layer (type)                 Output Shape              Param #   \n",
            "=================================================================\n",
            "conv2d (Conv2D)              (None, 28, 28, 24)        1824      \n",
            "_________________________________________________________________\n",
            "conv2d_1 (Conv2D)            (None, 24, 24, 36)        21636     \n",
            "_________________________________________________________________\n",
            "conv2d_2 (Conv2D)            (None, 20, 20, 48)        43248     \n",
            "_________________________________________________________________\n",
            "conv2d_3 (Conv2D)            (None, 18, 18, 64)        27712     \n",
            "_________________________________________________________________\n",
            "conv2d_4 (Conv2D)            (None, 16, 16, 64)        36928     \n",
            "_________________________________________________________________\n",
            "flatten (Flatten)            (None, 16384)             0         \n",
            "_________________________________________________________________\n",
            "dense (Dense)                (None, 250)               4096250   \n",
            "_________________________________________________________________\n",
            "dense_1 (Dense)              (None, 125)               31375     \n",
            "_________________________________________________________________\n",
            "dense_2 (Dense)              (None, 75)                9450      \n",
            "_________________________________________________________________\n",
            "dense_3 (Dense)              (None, 43)                3268      \n",
            "=================================================================\n",
            "Total params: 4,271,691\n",
            "Trainable params: 4,271,691\n",
            "Non-trainable params: 0\n",
            "_________________________________________________________________\n",
            "None\n"
          ],
          "name": "stdout"
        }
      ]
    },
    {
      "cell_type": "code",
      "metadata": {
        "id": "5mhR7A674UJF"
      },
      "source": [
        "def labels_to_one_hot(y_labels, num_classes):\n",
        "  matrix_eye = np.eye(num_classes)\n",
        "  y_labels_array = []\n",
        "  for i in range(len(y_labels)):\n",
        "    y_labels_array.append(matrix_eye[:,y_labels[i]])\n",
        "  return np.array(y_labels_array)"
      ],
      "execution_count": null,
      "outputs": []
    },
    {
      "cell_type": "code",
      "metadata": {
        "colab": {
          "base_uri": "https://localhost:8080/"
        },
        "id": "9X27AtKLJk49",
        "outputId": "e7526737-7a86-4049-ab0c-0d8e5bf99226"
      },
      "source": [
        "#change to hot encoded array!!\n",
        "y_train = labels_to_one_hot(y_train, 43)\n",
        "y_valid = labels_to_one_hot(y_valid, 43)\n",
        "\n",
        "print(y_train.shape)\n",
        "print(y_valid.shape)"
      ],
      "execution_count": null,
      "outputs": [
        {
          "output_type": "stream",
          "text": [
            "(41440, 43)\n",
            "(4410, 43)\n"
          ],
          "name": "stdout"
        }
      ]
    },
    {
      "cell_type": "markdown",
      "metadata": {
        "id": "Fh2fE5CYEemd"
      },
      "source": [
        "**4- Training the CNN**"
      ]
    },
    {
      "cell_type": "code",
      "metadata": {
        "colab": {
          "base_uri": "https://localhost:8080/"
        },
        "id": "H15XgoIe6eKD",
        "outputId": "b4237540-98d6-4166-f760-118d2925d4c3"
      },
      "source": [
        "history = model.fit(x=X_train, y=y_train, \n",
        "                    batch_size=32, \n",
        "                    epochs=10, \n",
        "                    verbose=1, \n",
        "                    validation_data=(X_valid, y_valid), \n",
        "                    shuffle=True)"
      ],
      "execution_count": null,
      "outputs": [
        {
          "output_type": "stream",
          "text": [
            "Epoch 1/10\n",
            "1295/1295 [==============================] - 472s 364ms/step - loss: 1.9381 - accuracy: 0.5522 - val_loss: 0.4841 - val_accuracy: 0.8934\n",
            "Epoch 2/10\n",
            "1295/1295 [==============================] - 472s 364ms/step - loss: 0.3077 - accuracy: 0.9273 - val_loss: 0.2869 - val_accuracy: 0.9413\n",
            "Epoch 3/10\n",
            "1295/1295 [==============================] - 473s 365ms/step - loss: 0.1302 - accuracy: 0.9680 - val_loss: 0.2158 - val_accuracy: 0.9531\n",
            "Epoch 4/10\n",
            "1295/1295 [==============================] - 468s 362ms/step - loss: 0.0942 - accuracy: 0.9783 - val_loss: 0.2091 - val_accuracy: 0.9590\n",
            "Epoch 5/10\n",
            "1295/1295 [==============================] - 470s 363ms/step - loss: 0.0535 - accuracy: 0.9876 - val_loss: 0.3040 - val_accuracy: 0.9454\n",
            "Epoch 6/10\n",
            "1295/1295 [==============================] - 472s 365ms/step - loss: 0.0488 - accuracy: 0.9886 - val_loss: 0.2358 - val_accuracy: 0.9619\n",
            "Epoch 7/10\n",
            "1295/1295 [==============================] - 471s 364ms/step - loss: 0.0462 - accuracy: 0.9892 - val_loss: 0.2385 - val_accuracy: 0.9610\n",
            "Epoch 8/10\n",
            "1295/1295 [==============================] - 479s 370ms/step - loss: 0.0361 - accuracy: 0.9919 - val_loss: 0.2478 - val_accuracy: 0.9571\n",
            "Epoch 9/10\n",
            "1295/1295 [==============================] - 473s 366ms/step - loss: 0.0388 - accuracy: 0.9917 - val_loss: 0.1136 - val_accuracy: 0.9728\n",
            "Epoch 10/10\n",
            "1295/1295 [==============================] - 459s 354ms/step - loss: 0.0234 - accuracy: 0.9947 - val_loss: 0.1166 - val_accuracy: 0.9785\n"
          ],
          "name": "stdout"
        }
      ]
    },
    {
      "cell_type": "code",
      "metadata": {
        "colab": {
          "base_uri": "https://localhost:8080/",
          "height": 530
        },
        "id": "VBbqyc-j6o8Q",
        "outputId": "ee55a732-ae30-4f4d-c79b-74571bb58589"
      },
      "source": [
        "plt.rcParams[\"figure.figsize\"] = (8,8)\n",
        "plt.plot(history.history['accuracy'])\n",
        "plt.plot(history.history['val_accuracy'])\n",
        "plt.legend(['training', 'validation'])\n",
        "plt.title('Accuracy')\n",
        "plt.xlabel('epoch')"
      ],
      "execution_count": null,
      "outputs": [
        {
          "output_type": "execute_result",
          "data": {
            "text/plain": [
              "Text(0.5, 0, 'epoch')"
            ]
          },
          "metadata": {
            "tags": []
          },
          "execution_count": 33
        },
        {
          "output_type": "display_data",
          "data": {
            "image/png": "[encoded data removed]",
            "text/plain": [
              "<Figure size 576x576 with 1 Axes>"
            ]
          },
          "metadata": {
            "tags": [],
            "needs_background": "light"
          }
        }
      ]
    },
    {
      "cell_type": "code",
      "metadata": {
        "colab": {
          "base_uri": "https://localhost:8080/",
          "height": 530
        },
        "id": "mzsD82w861rg",
        "outputId": "3676ee0a-339d-49ee-8ce4-fe77a9291518"
      },
      "source": [
        "plt.rcParams[\"figure.figsize\"] = (8,8)\n",
        "plt.plot(history.history['loss'])\n",
        "plt.plot(history.history['val_loss'])\n",
        "plt.legend(['training', 'validation'])\n",
        "plt.title('Loss')\n",
        "plt.xlabel('epoch')"
      ],
      "execution_count": null,
      "outputs": [
        {
          "output_type": "execute_result",
          "data": {
            "text/plain": [
              "Text(0.5, 0, 'epoch')"
            ]
          },
          "metadata": {
            "tags": []
          },
          "execution_count": 34
        },
        {
          "output_type": "display_data",
          "data": {
            "image/png": "[encoded data removed]",
            "text/plain": [
              "<Figure size 576x576 with 1 Axes>"
            ]
          },
          "metadata": {
            "tags": [],
            "needs_background": "light"
          }
        }
      ]
    },
    {
      "cell_type": "code",
      "metadata": {
        "colab": {
          "base_uri": "https://localhost:8080/"
        },
        "id": "BKQ_Zra_SA5v",
        "outputId": "fc3080b1-f153-40f1-e9b2-719295f385d2"
      },
      "source": [
        "X_test = test['features']\n",
        "y_test = test['labels']\n",
        "\n",
        "X_test = np.array(X_test)\n",
        "y_test = np.array(y_test)\n",
        "\n",
        "print(X_test.shape)\n",
        "print(y_test.shape)"
      ],
      "execution_count": null,
      "outputs": [
        {
          "output_type": "stream",
          "text": [
            "(12630, 32, 32, 3)\n",
            "(12630,)\n"
          ],
          "name": "stdout"
        }
      ]
    },
    {
      "cell_type": "code",
      "metadata": {
        "id": "6hvAFHkTSMXy"
      },
      "source": [
        "y_test = labels_to_one_hot(y_test, 43)"
      ],
      "execution_count": null,
      "outputs": []
    },
    {
      "cell_type": "code",
      "metadata": {
        "colab": {
          "base_uri": "https://localhost:8080/",
          "height": 517
        },
        "id": "N33eOCc-N-1O",
        "outputId": "f39502a3-cd6a-4834-b7f5-ed06c9dff1d0"
      },
      "source": [
        "index = random.randint(0,len(X_test)-1)\n",
        "img_testing = X_test[index]\n",
        "label_testing = y_test[index]\n",
        "\n",
        "plt.imshow(img_testing)\n",
        "print (\"Actual: \", np.argmax(label_testing))\n",
        "img_testing = img_testing.reshape(-1, WIDTH,HEIGHT,3)\n",
        "\n",
        "print (\"Prediction: \", np.argmax(model.predict(img_testing)))"
      ],
      "execution_count": null,
      "outputs": [
        {
          "output_type": "stream",
          "text": [
            "Actual:  20\n",
            "Prediction:  20\n"
          ],
          "name": "stdout"
        },
        {
          "output_type": "display_data",
          "data": {
            "image/png": "[encoded data removed]",
            "text/plain": [
              "<Figure size 576x576 with 1 Axes>"
            ]
          },
          "metadata": {
            "tags": [],
            "needs_background": "light"
          }
        }
      ]
    },
    {
      "cell_type": "markdown",
      "metadata": {
        "id": "GOMxsqFREnm-"
      },
      "source": [
        "**5- Evaluate and Save the Trained Model**"
      ]
    },
    {
      "cell_type": "code",
      "metadata": {
        "colab": {
          "base_uri": "https://localhost:8080/"
        },
        "id": "7qlYQ7s_6743",
        "outputId": "df7e6be1-3e86-42a2-f844-9ffd82972296"
      },
      "source": [
        "# Evaluate the model on the test data using `evaluate`\n",
        "print(\"Evaluate on test data\")\n",
        "results = model.evaluate(X_test, y_test)\n",
        "print(\"test loss, test acc:\", results)"
      ],
      "execution_count": null,
      "outputs": [
        {
          "output_type": "stream",
          "text": [
            "Evaluate on test data\n",
            "395/395 [==============================] - 33s 83ms/step - loss: 0.2969 - accuracy: 0.9515\n",
            "test loss, test acc: [0.29690027236938477, 0.951543927192688]\n"
          ],
          "name": "stdout"
        }
      ]
    },
    {
      "cell_type": "code",
      "metadata": {
        "id": "erQF82IDSoRw"
      },
      "source": [
        "model.save('traffic.h5')"
      ],
      "execution_count": null,
      "outputs": []
    }
  ]
}